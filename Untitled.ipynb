{
 "cells": [
  {
   "cell_type": "markdown",
   "id": "f087669d-e9f0-4207-b08b-3b75de23890a",
   "metadata": {},
   "source": [
    "# Implementing Value Iteration to solve 2-echelon inventory optimisation MDP with no lead times"
   ]
  },
  {
   "cell_type": "code",
   "execution_count": null,
   "id": "7c09dafb-d50b-486e-b031-7e93a5447d87",
   "metadata": {},
   "outputs": [],
   "source": [
    "S = "
   ]
  }
 ],
 "metadata": {
  "kernelspec": {
   "display_name": "env",
   "language": "python",
   "name": "python3"
  },
  "language_info": {
   "codemirror_mode": {
    "name": "ipython",
    "version": 3
   },
   "file_extension": ".py",
   "mimetype": "text/x-python",
   "name": "python",
   "nbconvert_exporter": "python",
   "pygments_lexer": "ipython3",
   "version": "3.11.0"
  }
 },
 "nbformat": 4,
 "nbformat_minor": 5
}
